{
 "metadata": {
  "name": "",
  "signature": "sha256:b69e0a8545aa48b01f36ad58d85dacb22cdc677d8d8bff4ec81e9186537a55ad"
 },
 "nbformat": 3,
 "nbformat_minor": 0,
 "worksheets": [
  {
   "cells": [
    {
     "cell_type": "code",
     "collapsed": false,
     "input": [
      "import numpy as np"
     ],
     "language": "python",
     "metadata": {},
     "outputs": [],
     "prompt_number": 1
    },
    {
     "cell_type": "code",
     "collapsed": false,
     "input": [
      "from game_tools import Player, NormalFormGame"
     ],
     "language": "python",
     "metadata": {},
     "outputs": [],
     "prompt_number": 2
    },
    {
     "cell_type": "code",
     "collapsed": false,
     "input": [
      "U = np.array([[[(3, 3, 3), (6, 4, 1)],\n",
      "               [(4, 1, 6), (2, 5, 0)]],\n",
      "              [[(1, 6, 4), (0, 2, 5)],\n",
      "               [(5, 0, 2), (7, 7, 7)]]])"
     ],
     "language": "python",
     "metadata": {},
     "outputs": [],
     "prompt_number": 3
    },
    {
     "cell_type": "code",
     "collapsed": false,
     "input": [
      "g0 = NormalFormGame(U)"
     ],
     "language": "python",
     "metadata": {},
     "outputs": [],
     "prompt_number": 4
    },
    {
     "cell_type": "code",
     "collapsed": false,
     "input": [
      "for i in range(3):\n",
      "    print 'player {0}'.format(i)\n",
      "    print g0.players[i].payoff_array"
     ],
     "language": "python",
     "metadata": {},
     "outputs": [
      {
       "output_type": "stream",
       "stream": "stdout",
       "text": [
        "player 0\n",
        "[[[3 6]\n",
        "  [4 2]]\n",
        "\n",
        " [[1 0]\n",
        "  [5 7]]]\n",
        "player 1\n",
        "[[[3 6]\n",
        "  [4 2]]\n",
        "\n",
        " [[1 0]\n",
        "  [5 7]]]\n",
        "player 2\n",
        "[[[3 6]\n",
        "  [4 2]]\n",
        "\n",
        " [[1 0]\n",
        "  [5 7]]]\n"
       ]
      }
     ],
     "prompt_number": 5
    },
    {
     "cell_type": "code",
     "collapsed": false,
     "input": [
      "g0.players[i].payoff_array"
     ],
     "language": "python",
     "metadata": {},
     "outputs": [
      {
       "metadata": {},
       "output_type": "pyout",
       "prompt_number": 6,
       "text": [
        "array([[[3, 6],\n",
        "        [4, 2]],\n",
        "\n",
        "       [[1, 0],\n",
        "        [5, 7]]])"
       ]
      }
     ],
     "prompt_number": 6
    },
    {
     "cell_type": "code",
     "collapsed": false,
     "input": [
      "g0[0, 0, 0]"
     ],
     "language": "python",
     "metadata": {},
     "outputs": [
      {
       "metadata": {},
       "output_type": "pyout",
       "prompt_number": 7,
       "text": [
        "[3, 3, 3]"
       ]
      }
     ],
     "prompt_number": 7
    },
    {
     "cell_type": "code",
     "collapsed": false,
     "input": [
      "g0[0, 0, 1]"
     ],
     "language": "python",
     "metadata": {},
     "outputs": [
      {
       "metadata": {},
       "output_type": "pyout",
       "prompt_number": 8,
       "text": [
        "[6, 4, 1]"
       ]
      }
     ],
     "prompt_number": 8
    },
    {
     "cell_type": "code",
     "collapsed": false,
     "input": [
      "import itertools\n",
      "actions_list = [range(player.num_actions) for player in g0.players]\n",
      "for action_profile in itertools.product(*actions_list):\n",
      "    print 'payoff_profile{0} ='.format(action_profile), g0[action_profile]"
     ],
     "language": "python",
     "metadata": {},
     "outputs": [
      {
       "output_type": "stream",
       "stream": "stdout",
       "text": [
        "payoff_profile(0, 0, 0) = [3, 3, 3]\n",
        "payoff_profile(0, 0, 1) = [6, 4, 1]\n",
        "payoff_profile(0, 1, 0) = [4, 1, 6]\n",
        "payoff_profile(0, 1, 1) = [2, 5, 0]\n",
        "payoff_profile(1, 0, 0) = [1, 6, 4]\n",
        "payoff_profile(1, 0, 1) = [0, 2, 5]\n",
        "payoff_profile(1, 1, 0) = [5, 0, 2]\n",
        "payoff_profile(1, 1, 1) = [7, 7, 7]\n"
       ]
      }
     ],
     "prompt_number": 9
    },
    {
     "cell_type": "code",
     "collapsed": false,
     "input": [
      "p0 = Player(np.zeros((2*3*4)).reshape((2, 3, 4)))\n",
      "p1 = Player(np.zeros((2*3*4)).reshape((3, 4, 2)))\n",
      "p2 = Player(np.zeros((2*3*4)).reshape((4, 2, 3)))"
     ],
     "language": "python",
     "metadata": {},
     "outputs": [],
     "prompt_number": 10
    },
    {
     "cell_type": "code",
     "collapsed": false,
     "input": [
      "g1 = NormalFormGame((p0, p1, p2))"
     ],
     "language": "python",
     "metadata": {},
     "outputs": [],
     "prompt_number": 11
    },
    {
     "cell_type": "code",
     "collapsed": false,
     "input": [
      "for i in range(3):\n",
      "    print 'player {0}'.format(i)\n",
      "    print g1.players[i].payoff_array"
     ],
     "language": "python",
     "metadata": {},
     "outputs": [
      {
       "output_type": "stream",
       "stream": "stdout",
       "text": [
        "player 0\n",
        "[[[ 0.  0.  0.  0.]\n",
        "  [ 0.  0.  0.  0.]\n",
        "  [ 0.  0.  0.  0.]]\n",
        "\n",
        " [[ 0.  0.  0.  0.]\n",
        "  [ 0.  0.  0.  0.]\n",
        "  [ 0.  0.  0.  0.]]]\n",
        "player 1\n",
        "[[[ 0.  0.]\n",
        "  [ 0.  0.]\n",
        "  [ 0.  0.]\n",
        "  [ 0.  0.]]\n",
        "\n",
        " [[ 0.  0.]\n",
        "  [ 0.  0.]\n",
        "  [ 0.  0.]\n",
        "  [ 0.  0.]]\n",
        "\n",
        " [[ 0.  0.]\n",
        "  [ 0.  0.]\n",
        "  [ 0.  0.]\n",
        "  [ 0.  0.]]]\n",
        "player 2\n",
        "[[[ 0.  0.  0.]\n",
        "  [ 0.  0.  0.]]\n",
        "\n",
        " [[ 0.  0.  0.]\n",
        "  [ 0.  0.  0.]]\n",
        "\n",
        " [[ 0.  0.  0.]\n",
        "  [ 0.  0.  0.]]\n",
        "\n",
        " [[ 0.  0.  0.]\n",
        "  [ 0.  0.  0.]]]\n"
       ]
      }
     ],
     "prompt_number": 12
    },
    {
     "cell_type": "code",
     "collapsed": false,
     "input": [
      "import itertools\n",
      "actions_list = [range(player.num_actions) for player in g1.players]\n",
      "for action_profile in itertools.product(*actions_list):\n",
      "    print 'payoff_profile{0} ='.format(action_profile), g1[action_profile]"
     ],
     "language": "python",
     "metadata": {},
     "outputs": [
      {
       "output_type": "stream",
       "stream": "stdout",
       "text": [
        "payoff_profile(0, 0, 0) = [0.0, 0.0, 0.0]\n",
        "payoff_profile(0, 0, 1) = [0.0, 0.0, 0.0]\n",
        "payoff_profile(0, 0, 2) = [0.0, 0.0, 0.0]\n",
        "payoff_profile(0, 0, 3) = [0.0, 0.0, 0.0]\n",
        "payoff_profile(0, 1, 0) = [0.0, 0.0, 0.0]\n",
        "payoff_profile(0, 1, 1) = [0.0, 0.0, 0.0]\n",
        "payoff_profile(0, 1, 2) = [0.0, 0.0, 0.0]\n",
        "payoff_profile(0, 1, 3) = [0.0, 0.0, 0.0]\n",
        "payoff_profile(0, 2, 0) = [0.0, 0.0, 0.0]\n",
        "payoff_profile(0, 2, 1) = [0.0, 0.0, 0.0]\n",
        "payoff_profile(0, 2, 2) = [0.0, 0.0, 0.0]\n",
        "payoff_profile(0, 2, 3) = [0.0, 0.0, 0.0]\n",
        "payoff_profile(1, 0, 0) = [0.0, 0.0, 0.0]\n",
        "payoff_profile(1, 0, 1) = [0.0, 0.0, 0.0]\n",
        "payoff_profile(1, 0, 2) = [0.0, 0.0, 0.0]\n",
        "payoff_profile(1, 0, 3) = [0.0, 0.0, 0.0]\n",
        "payoff_profile(1, 1, 0) = [0.0, 0.0, 0.0]\n",
        "payoff_profile(1, 1, 1) = [0.0, 0.0, 0.0]\n",
        "payoff_profile(1, 1, 2) = [0.0, 0.0, 0.0]\n",
        "payoff_profile(1, 1, 3) = [0.0, 0.0, 0.0]\n",
        "payoff_profile(1, 2, 0) = [0.0, 0.0, 0.0]\n",
        "payoff_profile(1, 2, 1) = [0.0, 0.0, 0.0]\n",
        "payoff_profile(1, 2, 2) = [0.0, 0.0, 0.0]\n",
        "payoff_profile(1, 2, 3) = [0.0, 0.0, 0.0]\n"
       ]
      }
     ],
     "prompt_number": 13
    },
    {
     "cell_type": "code",
     "collapsed": false,
     "input": [
      "g2 = NormalFormGame((2, 3, 4))"
     ],
     "language": "python",
     "metadata": {},
     "outputs": [],
     "prompt_number": 14
    },
    {
     "cell_type": "code",
     "collapsed": false,
     "input": [
      "for i in range(3):\n",
      "    print 'player {0}'.format(i)\n",
      "    print g2.players[i].payoff_array"
     ],
     "language": "python",
     "metadata": {},
     "outputs": [
      {
       "output_type": "stream",
       "stream": "stdout",
       "text": [
        "player 0\n",
        "[[[ 0.  0.  0.  0.]\n",
        "  [ 0.  0.  0.  0.]\n",
        "  [ 0.  0.  0.  0.]]\n",
        "\n",
        " [[ 0.  0.  0.  0.]\n",
        "  [ 0.  0.  0.  0.]\n",
        "  [ 0.  0.  0.  0.]]]\n",
        "player 1\n",
        "[[[ 0.  0.]\n",
        "  [ 0.  0.]\n",
        "  [ 0.  0.]\n",
        "  [ 0.  0.]]\n",
        "\n",
        " [[ 0.  0.]\n",
        "  [ 0.  0.]\n",
        "  [ 0.  0.]\n",
        "  [ 0.  0.]]\n",
        "\n",
        " [[ 0.  0.]\n",
        "  [ 0.  0.]\n",
        "  [ 0.  0.]\n",
        "  [ 0.  0.]]]\n",
        "player 2\n",
        "[[[ 0.  0.  0.]\n",
        "  [ 0.  0.  0.]]\n",
        "\n",
        " [[ 0.  0.  0.]\n",
        "  [ 0.  0.  0.]]\n",
        "\n",
        " [[ 0.  0.  0.]\n",
        "  [ 0.  0.  0.]]\n",
        "\n",
        " [[ 0.  0.  0.]\n",
        "  [ 0.  0.  0.]]]\n"
       ]
      }
     ],
     "prompt_number": 15
    },
    {
     "cell_type": "code",
     "collapsed": false,
     "input": [
      "g3 = NormalFormGame(3)"
     ],
     "language": "python",
     "metadata": {},
     "outputs": [],
     "prompt_number": 16
    },
    {
     "cell_type": "code",
     "collapsed": false,
     "input": [
      "g3.N"
     ],
     "language": "python",
     "metadata": {},
     "outputs": [
      {
       "metadata": {},
       "output_type": "pyout",
       "prompt_number": 17,
       "text": [
        "1"
       ]
      }
     ],
     "prompt_number": 17
    },
    {
     "cell_type": "code",
     "collapsed": false,
     "input": [
      "g3.players[0].payoff_array"
     ],
     "language": "python",
     "metadata": {},
     "outputs": [
      {
       "metadata": {},
       "output_type": "pyout",
       "prompt_number": 18,
       "text": [
        "array([ 0.,  0.,  0.])"
       ]
      }
     ],
     "prompt_number": 18
    },
    {
     "cell_type": "code",
     "collapsed": false,
     "input": [],
     "language": "python",
     "metadata": {},
     "outputs": []
    }
   ],
   "metadata": {}
  }
 ]
}