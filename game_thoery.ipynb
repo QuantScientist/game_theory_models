{
 "metadata": {
  "name": "",
  "signature": "sha256:d0ae035f279bfbd421473ebde5cdcfeb92b31f03884928fea0997d056674510f"
 },
 "nbformat": 3,
 "nbformat_minor": 0,
 "worksheets": [
  {
   "cells": [
    {
     "cell_type": "heading",
     "level": 1,
     "metadata": {},
     "source": [
      "Tools for Game Theory"
     ]
    },
    {
     "cell_type": "heading",
     "level": 4,
     "metadata": {},
     "source": [
      "Daisuke Oyama"
     ]
    },
    {
     "cell_type": "heading",
     "level": 4,
     "metadata": {},
     "source": [
      "Faculty of Economics, University of Tokyo"
     ]
    },
    {
     "cell_type": "markdown",
     "metadata": {},
     "source": [
      "This notebook demonstrates the functionalities of the `game_theory` module."
     ]
    },
    {
     "cell_type": "code",
     "collapsed": false,
     "input": [
      "import game_tools"
     ],
     "language": "python",
     "metadata": {},
     "outputs": [],
     "prompt_number": 1
    },
    {
     "cell_type": "heading",
     "level": 2,
     "metadata": {},
     "source": [
      "Normal Form Games"
     ]
    },
    {
     "cell_type": "markdown",
     "metadata": {},
     "source": [
      "An $N$-player *normal form game* is a tuple $g = (I, (A_i)_{i \\in I}, (u_i)_{i \\in I})$ where\n",
      "\n",
      "* $I = \\{0, \\ldots, N-1\\}$ is the set of players,\n",
      "* $A_i = \\{0, \\ldots, n_i-1\\}$ is the set of actions of player $i \\in I$, and\n",
      "* $u_i \\colon A_i \\times A_{i+1} \\times \\cdots \\times A_{i+N-1} \\to \\mathbb{R}$\n",
      "  is the payoff function of player $i \\in I$,\n",
      "\n",
      "where $i+j$ is understood modulo $N$.\n",
      "\n",
      "Note that we adopt the convention that the $0$-th argument of the payoff function $u_i$ is\n",
      "player $i$'s own action\n",
      "and the $j$-th argument, $j = 1, \\ldots, N-1$, is player ($i+j$)'s action (modulo $N$)."
     ]
    },
    {
     "cell_type": "markdown",
     "metadata": {},
     "source": [
      "In our module,\n",
      "a normal form game and a player are represented by\n",
      "the classes `NormalFormGames` and `Player`, respectively.\n",
      "\n",
      "A `Player` carries the player's payoff function and implements in particular\n",
      "a method that returns the best response action(s) given an action of the opponent player\n",
      "(or a profile of actions of the opponents if there are more than one).\n",
      "\n",
      "A `NormalFormGame` is in effect a container of `Player` instances."
     ]
    },
    {
     "cell_type": "heading",
     "level": 3,
     "metadata": {},
     "source": [
      "Creating a `NormalFormGame`"
     ]
    },
    {
     "cell_type": "markdown",
     "metadata": {},
     "source": [
      "There are a couple of ways to create a `NormalFormGame` instance."
     ]
    },
    {
     "cell_type": "markdown",
     "metadata": {},
     "source": [
      "The first is to pass an array of payoffs for all the players, i.e.,\n",
      "an $(N+1)$-dimenstional array of shape $(n_0, \\ldots, n_{N-1}, N)$\n",
      "whose $(a_0, \\ldots, a_{N-1})$-entry contains an array of the payoffs\n",
      "for the action profile $(a_0, \\ldots, a_{N-1})$."
     ]
    },
    {
     "cell_type": "markdown",
     "metadata": {},
     "source": [
      "Here's an example:"
     ]
    },
    {
     "cell_type": "code",
     "collapsed": false,
     "input": [
      "matching_pennies_bimatrix = [[(1, -1), (-1, 1)], [(-1, 1), (1, -1)]]\n",
      "g0 = game_tools.NormalFormGame(matching_pennies_bimatrix)"
     ],
     "language": "python",
     "metadata": {},
     "outputs": [],
     "prompt_number": 2
    },
    {
     "cell_type": "code",
     "collapsed": false,
     "input": [
      "g0"
     ],
     "language": "python",
     "metadata": {},
     "outputs": [
      {
       "metadata": {},
       "output_type": "pyout",
       "prompt_number": 3,
       "text": [
        "2-player NormalFormGame with payoff bimatrix:\n",
        "[[[1, -1], [-1, 1]], [[-1, 1], [1, -1]]]"
       ]
      }
     ],
     "prompt_number": 3
    },
    {
     "cell_type": "code",
     "collapsed": false,
     "input": [
      "g0.players[0].payoff_array  # Player 0's payoff array"
     ],
     "language": "python",
     "metadata": {},
     "outputs": [
      {
       "metadata": {},
       "output_type": "pyout",
       "prompt_number": 4,
       "text": [
        "array([[ 1, -1],\n",
        "       [-1,  1]])"
       ]
      }
     ],
     "prompt_number": 4
    },
    {
     "cell_type": "code",
     "collapsed": false,
     "input": [
      "g0.players[1].payoff_array  # Player 1's payoff array"
     ],
     "language": "python",
     "metadata": {},
     "outputs": [
      {
       "metadata": {},
       "output_type": "pyout",
       "prompt_number": 5,
       "text": [
        "array([[-1,  1],\n",
        "       [ 1, -1]])"
       ]
      }
     ],
     "prompt_number": 5
    },
    {
     "cell_type": "code",
     "collapsed": false,
     "input": [
      "g0[0, 1]"
     ],
     "language": "python",
     "metadata": {},
     "outputs": [
      {
       "metadata": {},
       "output_type": "pyout",
       "prompt_number": 6,
       "text": [
        "[-1, 1]"
       ]
      }
     ],
     "prompt_number": 6
    },
    {
     "cell_type": "code",
     "collapsed": false,
     "input": [],
     "language": "python",
     "metadata": {},
     "outputs": [],
     "prompt_number": 6
    }
   ],
   "metadata": {}
  }
 ]
}