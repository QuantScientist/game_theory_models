{
 "metadata": {
  "name": "",
  "signature": "sha256:f7187321b1b7d464c554018006f2771c3b99c19a4b48f4399ec7a43a686badc2"
 },
 "nbformat": 3,
 "nbformat_minor": 0,
 "worksheets": [
  {
   "cells": [
    {
     "cell_type": "heading",
     "level": 1,
     "metadata": {},
     "source": [
      "Tools for Game Theory"
     ]
    },
    {
     "cell_type": "heading",
     "level": 4,
     "metadata": {},
     "source": [
      "Daisuke Oyama"
     ]
    },
    {
     "cell_type": "heading",
     "level": 4,
     "metadata": {},
     "source": [
      "Faculty of Economics, University of Tokyo"
     ]
    },
    {
     "cell_type": "markdown",
     "metadata": {},
     "source": [
      "This notebook demonstrates the functionalities of the `game_theory` module."
     ]
    },
    {
     "cell_type": "code",
     "collapsed": false,
     "input": [
      "from __future__ import division\n",
      "\n",
      "import itertools\n",
      "import numpy as np\n",
      "import game_tools"
     ],
     "language": "python",
     "metadata": {},
     "outputs": [],
     "prompt_number": 1
    },
    {
     "cell_type": "heading",
     "level": 2,
     "metadata": {},
     "source": [
      "Normal Form Games"
     ]
    },
    {
     "cell_type": "markdown",
     "metadata": {},
     "source": [
      "An $N$-player *normal form game* is a triplet $g = (I, (A_i)_{i \\in I}, (u_i)_{i \\in I})$ where\n",
      "\n",
      "* $I = \\{0, \\ldots, N-1\\}$ is the set of players,\n",
      "* $A_i = \\{0, \\ldots, n_i-1\\}$ is the set of actions of player $i \\in I$, and\n",
      "* $u_i \\colon A_i \\times A_{i+1} \\times \\cdots \\times A_{i+N-1} \\to \\mathbb{R}$\n",
      "  is the payoff function of player $i \\in I$,\n",
      "\n",
      "where $i+j$ is understood modulo $N$.\n",
      "\n",
      "Note that we adopt the convention that the $0$-th argument of the payoff function $u_i$ is\n",
      "player $i$'s own action\n",
      "and the $j$-th argument, $j = 1, \\ldots, N-1$, is player ($i+j$)'s action (modulo $N$)."
     ]
    },
    {
     "cell_type": "markdown",
     "metadata": {},
     "source": [
      "In our module,\n",
      "a normal form game and a player are represented by\n",
      "the classes `NormalFormGames` and `Player`, respectively.\n",
      "\n",
      "A `Player` carries the player's payoff function and implements in particular\n",
      "a method that returns the best response action(s) given an action of the opponent player\n",
      "(or a profile of actions of the opponents if there are more than one).\n",
      "\n",
      "A `NormalFormGame` is in effect a container of `Player` instances."
     ]
    },
    {
     "cell_type": "heading",
     "level": 3,
     "metadata": {},
     "source": [
      "Creating a `NormalFormGame`"
     ]
    },
    {
     "cell_type": "markdown",
     "metadata": {},
     "source": [
      "There are a couple of ways to create a `NormalFormGame` instance."
     ]
    },
    {
     "cell_type": "markdown",
     "metadata": {},
     "source": [
      "The first is to pass an array of payoffs for all the players, i.e.,\n",
      "an $(N+1)$-dimenstional array of shape $(n_0, \\ldots, n_{N-1}, N)$\n",
      "whose $(a_0, \\ldots, a_{N-1})$-entry contains an array of the payoffs\n",
      "for the action profile $(a_0, \\ldots, a_{N-1})$."
     ]
    },
    {
     "cell_type": "markdown",
     "metadata": {},
     "source": [
      "As an example, consider the following game (\"Matching Pennies\"):\n",
      "\n",
      "$\n",
      "\\begin{bmatrix}\n",
      "1, -1 & -1, 1 \\\\\n",
      "-1, 1 & 1, -1\n",
      "\\end{bmatrix}\n",
      "$"
     ]
    },
    {
     "cell_type": "code",
     "collapsed": false,
     "input": [
      "matching_pennies_bimatrix = [[(1, -1), (-1, 1)],\n",
      "                             [(-1, 1), (1, -1)]]\n",
      "g_MP = game_tools.NormalFormGame(matching_pennies_bimatrix)"
     ],
     "language": "python",
     "metadata": {},
     "outputs": [],
     "prompt_number": 2
    },
    {
     "cell_type": "code",
     "collapsed": false,
     "input": [
      "g_MP"
     ],
     "language": "python",
     "metadata": {},
     "outputs": [
      {
       "metadata": {},
       "output_type": "pyout",
       "prompt_number": 3,
       "text": [
        "2-player NormalFormGame with payoff bimatrix:\n",
        "[[[1, -1], [-1, 1]], [[-1, 1], [1, -1]]]"
       ]
      }
     ],
     "prompt_number": 3
    },
    {
     "cell_type": "code",
     "collapsed": false,
     "input": [
      "g_MP.players[0].payoff_array  # Player 0's payoff array"
     ],
     "language": "python",
     "metadata": {},
     "outputs": [
      {
       "metadata": {},
       "output_type": "pyout",
       "prompt_number": 4,
       "text": [
        "array([[ 1, -1],\n",
        "       [-1,  1]])"
       ]
      }
     ],
     "prompt_number": 4
    },
    {
     "cell_type": "code",
     "collapsed": false,
     "input": [
      "g_MP.players[1].payoff_array  # Player 1's payoff array"
     ],
     "language": "python",
     "metadata": {},
     "outputs": [
      {
       "metadata": {},
       "output_type": "pyout",
       "prompt_number": 5,
       "text": [
        "array([[-1,  1],\n",
        "       [ 1, -1]])"
       ]
      }
     ],
     "prompt_number": 5
    },
    {
     "cell_type": "markdown",
     "metadata": {},
     "source": [
      "If a square matrix (2-dimensional array) is given,\n",
      "then it is considered to be a symmetric two-player game.\n",
      "\n",
      "Consider the following game (symmetric $2 \\times 2$ \"Coordination Game\"):\n",
      "\n",
      "$\n",
      "\\begin{bmatrix}\n",
      "4, 4 & 0, 3 \\\\\n",
      "3, 0 & 2, 2\n",
      "\\end{bmatrix}\n",
      "$"
     ]
    },
    {
     "cell_type": "code",
     "collapsed": false,
     "input": [
      "coordination_game_matrix = [[4, 0],\n",
      "                            [3, 2]]\n",
      "g_Coo = game_tools.NormalFormGame(coordination_game_matrix)"
     ],
     "language": "python",
     "metadata": {},
     "outputs": [],
     "prompt_number": 6
    },
    {
     "cell_type": "code",
     "collapsed": false,
     "input": [
      "g_Coo"
     ],
     "language": "python",
     "metadata": {},
     "outputs": [
      {
       "metadata": {},
       "output_type": "pyout",
       "prompt_number": 7,
       "text": [
        "2-player NormalFormGame with payoff bimatrix:\n",
        "[[[4, 4], [0, 3]], [[3, 0], [2, 2]]]"
       ]
      }
     ],
     "prompt_number": 7
    },
    {
     "cell_type": "code",
     "collapsed": false,
     "input": [
      "g_Coo.players[0].payoff_array  # Player 0's payoff array"
     ],
     "language": "python",
     "metadata": {},
     "outputs": [
      {
       "metadata": {},
       "output_type": "pyout",
       "prompt_number": 8,
       "text": [
        "array([[4, 0],\n",
        "       [3, 2]])"
       ]
      }
     ],
     "prompt_number": 8
    },
    {
     "cell_type": "code",
     "collapsed": false,
     "input": [
      "g_Coo.players[1].payoff_array  # Player 1's payoff array"
     ],
     "language": "python",
     "metadata": {},
     "outputs": [
      {
       "metadata": {},
       "output_type": "pyout",
       "prompt_number": 9,
       "text": [
        "array([[4, 0],\n",
        "       [3, 2]])"
       ]
      }
     ],
     "prompt_number": 9
    },
    {
     "cell_type": "markdown",
     "metadata": {},
     "source": [
      "Another example (\"Rock-Paper-Scissors\"):\n",
      "\n",
      "$\n",
      "\\begin{bmatrix}\n",
      " 0,  0 & -1,  1 &  1, -1 \\\\\n",
      " 1, -1 &  0,  0 & -1,  1 \\\\\n",
      "-1,  1 &  1, -1 &  0,  0\n",
      "\\end{bmatrix}\n",
      "$"
     ]
    },
    {
     "cell_type": "code",
     "collapsed": false,
     "input": [
      "RPS_matrix = [[ 0, -1,  1],\n",
      "              [ 1,  0, -1],\n",
      "              [-1,  1,  0]]\n",
      "g_RPS = game_tools.NormalFormGame(RPS_matrix)"
     ],
     "language": "python",
     "metadata": {},
     "outputs": [],
     "prompt_number": 10
    },
    {
     "cell_type": "code",
     "collapsed": false,
     "input": [
      "g_RPS"
     ],
     "language": "python",
     "metadata": {},
     "outputs": [
      {
       "metadata": {},
       "output_type": "pyout",
       "prompt_number": 11,
       "text": [
        "2-player NormalFormGame with payoff bimatrix:\n",
        "[[[0, 0], [-1, 1], [1, -1]], [[1, -1], [0, 0], [-1, 1]], [[-1, 1], [1, -1], [0, 0]]]"
       ]
      }
     ],
     "prompt_number": 11
    },
    {
     "cell_type": "markdown",
     "metadata": {},
     "source": [
      "The second is to specify the sizes of the action sets of the player\n",
      "to create a `NormalFormGame` instance filled with payoff zeros,\n",
      "and then set the payoff values to each entry.\n",
      "\n",
      "Let us construct the following game (\"Prisoners' Dilemma\"):\n",
      "\n",
      "$\n",
      "\\begin{bmatrix}\n",
      "1, 1  & -2, 3 \\\\\n",
      "3, -2 & 0, 0\n",
      "\\end{bmatrix}\n",
      "$"
     ]
    },
    {
     "cell_type": "code",
     "collapsed": false,
     "input": [
      "g_PD = game_tools.NormalFormGame((2, 2))  # There are 2 players, each of whom has 2 actions\n",
      "g_PD[0, 0] = 1, 1\n",
      "g_PD[0, 1] = -2, 3\n",
      "g_PD[1, 0] = 3, -2\n",
      "g_PD[1, 1] = 0, 0"
     ],
     "language": "python",
     "metadata": {},
     "outputs": [],
     "prompt_number": 12
    },
    {
     "cell_type": "code",
     "collapsed": false,
     "input": [
      "g_PD"
     ],
     "language": "python",
     "metadata": {},
     "outputs": [
      {
       "metadata": {},
       "output_type": "pyout",
       "prompt_number": 13,
       "text": [
        "2-player NormalFormGame with payoff bimatrix:\n",
        "[[[1.0, 1.0], [-2.0, 3.0]], [[3.0, -2.0], [0.0, 0.0]]]"
       ]
      }
     ],
     "prompt_number": 13
    },
    {
     "cell_type": "markdown",
     "metadata": {},
     "source": [
      "Finally, a `NormalFormGame` instance can be constructed by giving an array of `Player` instances,\n",
      "as explained in the next section."
     ]
    },
    {
     "cell_type": "heading",
     "level": 3,
     "metadata": {},
     "source": [
      "Creating a `Player`"
     ]
    },
    {
     "cell_type": "markdown",
     "metadata": {},
     "source": [
      "A `Player` instance is created by passing an array of dimension $N$\n",
      "that represents the player's payoff function (\"payoff array\").\n",
      "\n",
      "Consider the following game (a variant of \"Battle of the Sexes\"):\n",
      "\n",
      "$\n",
      "\\begin{bmatrix}\n",
      "3, 2 & 1, 1 \\\\\n",
      "0, 0 & 2, 3\n",
      "\\end{bmatrix}\n",
      "$"
     ]
    },
    {
     "cell_type": "code",
     "collapsed": false,
     "input": [
      "player0 = game_tools.Player([[3, 1],\n",
      "                             [0, 2]])\n",
      "player1 = game_tools.Player([[2, 0],\n",
      "                             [1, 3]])\n",
      "g_BoS = game_tools.NormalFormGame((player0, player1))"
     ],
     "language": "python",
     "metadata": {},
     "outputs": [],
     "prompt_number": 14
    },
    {
     "cell_type": "markdown",
     "metadata": {},
     "source": [
      "Beware that in `payoff_array[h, k]`, `h` refers to the player's own action,\n",
      "while `k` refers to the opponent player's action."
     ]
    },
    {
     "cell_type": "code",
     "collapsed": false,
     "input": [
      "g_BoS"
     ],
     "language": "python",
     "metadata": {},
     "outputs": [
      {
       "metadata": {},
       "output_type": "pyout",
       "prompt_number": 15,
       "text": [
        "2-player NormalFormGame with payoff bimatrix:\n",
        "[[[3, 2], [1, 1]], [[0, 0], [2, 3]]]"
       ]
      }
     ],
     "prompt_number": 15
    },
    {
     "cell_type": "heading",
     "level": 3,
     "metadata": {},
     "source": [
      "More than two players"
     ]
    },
    {
     "cell_type": "code",
     "collapsed": false,
     "input": [
      "from quantecon.cartesian import cartesian"
     ],
     "language": "python",
     "metadata": {},
     "outputs": [],
     "prompt_number": 16
    },
    {
     "cell_type": "code",
     "collapsed": false,
     "input": [
      "def cournot(a, c, N, q_grid):\n",
      "    \"\"\"\n",
      "    Create a `NormalFormGame` instance for the symmetric N-player Cournot game\n",
      "    with linear inverse demand a - Q and constant marginal cost c.\n",
      "\n",
      "    Parameters\n",
      "    ----------\n",
      "    a : scalar\n",
      "        Intercept of the demand curve\n",
      "\n",
      "    c : scalar\n",
      "        Common marginal cost\n",
      "\n",
      "    N : scalar(int)\n",
      "        Number of players\n",
      "\n",
      "    q_grid : array_like(scalar)\n",
      "        Array containing possible quantities\n",
      "\n",
      "    Returns\n",
      "    -------\n",
      "    NormalFormGame\n",
      "        NormalFormGame instance representing the Cournot game\n",
      "\n",
      "    \"\"\"\n",
      "    q_grid = np.asarray(q_grid)\n",
      "    payoff_array = \\\n",
      "        cartesian([q_grid]*N).sum(axis=-1).reshape([len(q_grid)]*N) * (-1) + \\\n",
      "        (a - c)\n",
      "    payoff_array *= q_grid.reshape([len(q_grid)] + [1]*(N-1))\n",
      "    payoff_array += 0  # To get rid of the minus sign of -0\n",
      "\n",
      "    player = game_tools.Player(payoff_array)\n",
      "    return game_tools.NormalFormGame([player for i in range(N)])"
     ],
     "language": "python",
     "metadata": {},
     "outputs": [],
     "prompt_number": 17
    },
    {
     "cell_type": "code",
     "collapsed": false,
     "input": [
      "a, c = 80, 20\n",
      "N = 3\n",
      "q_grid = [10, 15]  # [1/3 of Monopoly quantity, Nash equilibrium quantity]\n",
      "\n",
      "g_Cou = cournot(a, c, N, q_grid)"
     ],
     "language": "python",
     "metadata": {},
     "outputs": [],
     "prompt_number": 18
    },
    {
     "cell_type": "code",
     "collapsed": false,
     "input": [
      "g_Cou"
     ],
     "language": "python",
     "metadata": {},
     "outputs": [
      {
       "metadata": {},
       "output_type": "pyout",
       "prompt_number": 19,
       "text": [
        "3-player NormalFormGame"
       ]
      }
     ],
     "prompt_number": 19
    },
    {
     "cell_type": "code",
     "collapsed": false,
     "input": [
      "g_Cou.players[0].payoff_array"
     ],
     "language": "python",
     "metadata": {},
     "outputs": [
      {
       "metadata": {},
       "output_type": "pyout",
       "prompt_number": 20,
       "text": [
        "array([[[ 300.,  250.],\n",
        "        [ 250.,  200.]],\n",
        "\n",
        "       [[ 375.,  300.],\n",
        "        [ 300.,  225.]]])"
       ]
      }
     ],
     "prompt_number": 20
    },
    {
     "cell_type": "heading",
     "level": 2,
     "metadata": {},
     "source": [
      "Nash Equilibrium"
     ]
    },
    {
     "cell_type": "code",
     "collapsed": false,
     "input": [
      "def find_pure_nash_brute(g):\n",
      "    NEs = []\n",
      "    for a in itertools.product(*(range(n) for n in g.nums_actions)):\n",
      "        if g.is_nash(a):\n",
      "            NEs.append(a)\n",
      "    num_NEs = len(NEs)\n",
      "    if num_NEs == 0:\n",
      "        msg = 'no pure Nash equilibrium'\n",
      "    elif num_NEs == 1:\n",
      "        msg = '1 pure Nash equilibrium:\\n{0}'.format(NEs)\n",
      "    else:\n",
      "        msg = '{0} pure Nash equilibria:\\n{1}'.format(num_NEs, NEs)\n",
      "\n",
      "    print 'The game has ' + msg"
     ],
     "language": "python",
     "metadata": {},
     "outputs": [],
     "prompt_number": 21
    },
    {
     "cell_type": "code",
     "collapsed": false,
     "input": [
      "find_pure_nash_brute(g_MP)"
     ],
     "language": "python",
     "metadata": {},
     "outputs": [
      {
       "output_type": "stream",
       "stream": "stdout",
       "text": [
        "The game has no pure Nash equilibrium\n"
       ]
      }
     ],
     "prompt_number": 22
    },
    {
     "cell_type": "code",
     "collapsed": false,
     "input": [
      "find_pure_nash_brute(g_Coo)"
     ],
     "language": "python",
     "metadata": {},
     "outputs": [
      {
       "output_type": "stream",
       "stream": "stdout",
       "text": [
        "The game has 2 pure Nash equilibria:\n",
        "[(0, 0), (1, 1)]\n"
       ]
      }
     ],
     "prompt_number": 23
    },
    {
     "cell_type": "code",
     "collapsed": false,
     "input": [
      "find_pure_nash_brute(g_RPS)"
     ],
     "language": "python",
     "metadata": {},
     "outputs": [
      {
       "output_type": "stream",
       "stream": "stdout",
       "text": [
        "The game has no pure Nash equilibrium\n"
       ]
      }
     ],
     "prompt_number": 24
    },
    {
     "cell_type": "code",
     "collapsed": false,
     "input": [
      "find_pure_nash_brute(g_BoS)"
     ],
     "language": "python",
     "metadata": {},
     "outputs": [
      {
       "output_type": "stream",
       "stream": "stdout",
       "text": [
        "The game has 2 pure Nash equilibria:\n",
        "[(0, 0), (1, 1)]\n"
       ]
      }
     ],
     "prompt_number": 25
    },
    {
     "cell_type": "code",
     "collapsed": false,
     "input": [
      "find_pure_nash_brute(g_Cou)"
     ],
     "language": "python",
     "metadata": {},
     "outputs": [
      {
       "output_type": "stream",
       "stream": "stdout",
       "text": [
        "The game has 1 pure Nash equilibrium:\n",
        "[(1, 1, 1)]\n"
       ]
      }
     ],
     "prompt_number": 26
    },
    {
     "cell_type": "code",
     "collapsed": false,
     "input": [
      "def sequential_best_response(g, init_actions=None, verbose=True):\n",
      "    N = g.N  # Number of players\n",
      "    if init_actions is None:\n",
      "        init_actions = [0] * N\n",
      "\n",
      "    max_iter = np.prod(g.nums_actions)\n",
      "\n",
      "    a = np.asarray(init_actions, dtype=int)\n",
      "    if verbose:\n",
      "        print 'init_actions:', a\n",
      "    new_a = np.empty(N, dtype=int)\n",
      "    for t in range(max_iter):\n",
      "        new_a[:] = a\n",
      "        for i, player in enumerate(g.players):\n",
      "            if N == 2:\n",
      "                a_except_i = new_a[1-i]\n",
      "            else:\n",
      "                a_except_i = new_a[np.arange(i+1, i+N) % N]\n",
      "            new_a[i] = player.best_response(a_except_i)\n",
      "            if verbose:\n",
      "                print 'player {0}:'.format(i), new_a\n",
      "        if np.array_equal(new_a, a):\n",
      "            return a\n",
      "        else:\n",
      "            a[:] = new_a\n",
      "\n",
      "    print 'No pure Nash equilibrium found'\n",
      "    return None"
     ],
     "language": "python",
     "metadata": {},
     "outputs": [],
     "prompt_number": 27
    },
    {
     "cell_type": "code",
     "collapsed": false,
     "input": [
      "sequential_best_response(g_MP)"
     ],
     "language": "python",
     "metadata": {},
     "outputs": [
      {
       "output_type": "stream",
       "stream": "stdout",
       "text": [
        "init_actions: [0 0]\n",
        "player 0: [0 0]\n",
        "player 1: [0 1]\n",
        "player 0: [1 1]\n",
        "player 1: [1 0]\n",
        "player 0: [0 0]\n",
        "player 1: [0 1]\n",
        "player 0: [1 1]\n",
        "player 1: [1 0]\n",
        "No pure Nash equilibrium found\n"
       ]
      }
     ],
     "prompt_number": 28
    },
    {
     "cell_type": "code",
     "collapsed": false,
     "input": [
      "a, c = 80, 20\n",
      "N = 3\n",
      "q_grid = np.linspace(0, a-c, 13)  # [0, 5, 10, ..., 60]\n",
      "g_Cou = cournot(a, c, N, q_grid)"
     ],
     "language": "python",
     "metadata": {},
     "outputs": [],
     "prompt_number": 29
    },
    {
     "cell_type": "code",
     "collapsed": false,
     "input": [
      "a_star = sequential_best_response(g_Cou)\n",
      "print 'Nash equilibrium indices:', a_star\n",
      "print 'Nash equilibrium quantities:', q_grid[a_star]"
     ],
     "language": "python",
     "metadata": {},
     "outputs": [
      {
       "output_type": "stream",
       "stream": "stdout",
       "text": [
        "init_actions: [0 0 0]\n",
        "player 0: [6 0 0]\n",
        "player 1: [6 3 0]\n",
        "player 2: [6 3 1]\n",
        "player 0: [4 3 1]\n",
        "player 1: [4 3 1]\n",
        "player 2: [4 3 2]\n",
        "player 0: [3 3 2]\n",
        "player 1: [3 3 2]\n",
        "player 2: [3 3 3]\n",
        "player 0: [3 3 3]\n",
        "player 1: [3 3 3]\n",
        "player 2: [3 3 3]\n",
        "Nash equilibrium indices: [3 3 3]\n",
        "Nash equilibrium quantities: [ 15.  15.  15.]\n"
       ]
      }
     ],
     "prompt_number": 30
    },
    {
     "cell_type": "code",
     "collapsed": false,
     "input": [
      "sequential_best_response(g_Cou, init_actions=(12, 12, 12))"
     ],
     "language": "python",
     "metadata": {},
     "outputs": [
      {
       "output_type": "stream",
       "stream": "stdout",
       "text": [
        "init_actions: [12 12 12]\n",
        "player 0: [ 0 12 12]\n",
        "player 1: [ 0  0 12]\n",
        "player 2: [0 0 6]\n",
        "player 0: [3 0 6]\n",
        "player 1: [3 1 6]\n",
        "player 2: [3 1 4]\n",
        "player 0: [3 1 4]\n",
        "player 1: [3 2 4]\n",
        "player 2: [3 2 3]\n",
        "player 0: [3 2 3]\n",
        "player 1: [3 3 3]\n",
        "player 2: [3 3 3]\n",
        "player 0: [3 3 3]\n",
        "player 1: [3 3 3]\n",
        "player 2: [3 3 3]\n"
       ]
      },
      {
       "metadata": {},
       "output_type": "pyout",
       "prompt_number": 31,
       "text": [
        "array([3, 3, 3])"
       ]
      }
     ],
     "prompt_number": 31
    },
    {
     "cell_type": "code",
     "collapsed": false,
     "input": [
      "g_Cou.is_nash(a_star)"
     ],
     "language": "python",
     "metadata": {},
     "outputs": [
      {
       "metadata": {},
       "output_type": "pyout",
       "prompt_number": 32,
       "text": [
        "True"
       ]
      }
     ],
     "prompt_number": 32
    },
    {
     "cell_type": "code",
     "collapsed": false,
     "input": [
      "find_pure_nash_brute(g_Cou)"
     ],
     "language": "python",
     "metadata": {},
     "outputs": [
      {
       "output_type": "stream",
       "stream": "stdout",
       "text": [
        "The game has 7 pure Nash equilibria:\n",
        "[(2, 3, 4), (2, 4, 3), (3, 2, 4), (3, 3, 3), (3, 4, 2), (4, 2, 3), (4, 3, 2)]\n"
       ]
      }
     ],
     "prompt_number": 33
    },
    {
     "cell_type": "code",
     "collapsed": false,
     "input": [
      "q_grid = np.linspace(0, a-c, 61)  # [0, 1, 2, ..., 60]\n",
      "g_Cou = cournot(a, c, N, q_grid)"
     ],
     "language": "python",
     "metadata": {},
     "outputs": [],
     "prompt_number": 34
    },
    {
     "cell_type": "code",
     "collapsed": false,
     "input": [
      "sequential_best_response(g_Cou)"
     ],
     "language": "python",
     "metadata": {},
     "outputs": [
      {
       "output_type": "stream",
       "stream": "stdout",
       "text": [
        "init_actions: [0 0 0]\n",
        "player 0: [30  0  0]\n",
        "player 1: [30 15  0]\n",
        "player 2: [30 15  7]\n",
        "player 0: [19 15  7]\n",
        "player 1: [19 17  7]\n",
        "player 2: [19 17 12]\n",
        "player 0: [15 17 12]\n",
        "player 1: [15 16 12]\n",
        "player 2: [15 16 14]\n",
        "player 0: [15 16 14]\n",
        "player 1: [15 15 14]\n",
        "player 2: [15 15 15]\n",
        "player 0: [15 15 15]\n",
        "player 1: [15 15 15]\n",
        "player 2: [15 15 15]\n"
       ]
      },
      {
       "metadata": {},
       "output_type": "pyout",
       "prompt_number": 35,
       "text": [
        "array([15, 15, 15])"
       ]
      }
     ],
     "prompt_number": 35
    },
    {
     "cell_type": "code",
     "collapsed": false,
     "input": [
      "sequential_best_response(g_Cou, init_actions=(60, 60, 60))"
     ],
     "language": "python",
     "metadata": {},
     "outputs": [
      {
       "output_type": "stream",
       "stream": "stdout",
       "text": [
        "init_actions: [60 60 60]\n",
        "player 0: [ 0 60 60]\n",
        "player 1: [ 0  0 60]\n",
        "player 2: [ 0  0 30]\n",
        "player 0: [15  0 30]\n",
        "player 1: [15  7 30]\n",
        "player 2: [15  7 19]\n",
        "player 0: [17  7 19]\n",
        "player 1: [17 12 19]\n",
        "player 2: [17 12 15]\n",
        "player 0: [16 12 15]\n",
        "player 1: [16 14 15]\n",
        "player 2: [16 14 15]\n",
        "player 0: [15 14 15]\n",
        "player 1: [15 15 15]\n",
        "player 2: [15 15 15]\n",
        "player 0: [15 15 15]\n",
        "player 1: [15 15 15]\n",
        "player 2: [15 15 15]\n"
       ]
      },
      {
       "metadata": {},
       "output_type": "pyout",
       "prompt_number": 36,
       "text": [
        "array([15, 15, 15])"
       ]
      }
     ],
     "prompt_number": 36
    },
    {
     "cell_type": "code",
     "collapsed": false,
     "input": [],
     "language": "python",
     "metadata": {},
     "outputs": []
    }
   ],
   "metadata": {}
  }
 ]
}