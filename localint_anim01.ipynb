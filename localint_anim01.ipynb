{
 "metadata": {
  "name": "",
  "signature": "sha256:55ab4cc7c97826707ed8c922a307fbf245c95c2718027ae19acf8bcd375135a0"
 },
 "nbformat": 3,
 "nbformat_minor": 0,
 "worksheets": [
  {
   "cells": [
    {
     "cell_type": "heading",
     "level": 1,
     "metadata": {},
     "source": [
      "Local Interaction: Animation"
     ]
    },
    {
     "cell_type": "code",
     "collapsed": false,
     "input": [
      "from __future__ import division, print_function\n",
      "import numpy as np\n",
      "import matplotlib as mpl\n",
      "import matplotlib.pyplot as plt\n",
      "from matplotlib.animation import FuncAnimation\n",
      "import networkx as nx\n",
      "from localint import LocalInteraction"
     ],
     "language": "python",
     "metadata": {},
     "outputs": [],
     "prompt_number": 1
    },
    {
     "cell_type": "code",
     "collapsed": false,
     "input": [
      "def animation(li, init_actions=None, pos='circular', node_size=200,\n",
      "              node_colors=None, linewidth=2, interval=200, figsize=(16,10)):\n",
      "    num_actions = li.num_actions\n",
      "\n",
      "    if node_colors is None:\n",
      "        node_colors = mpl.rcParams['axes.color_cycle']\n",
      "    num_colors = len(node_colors)\n",
      "    if num_colors < num_actions:\n",
      "        raise ValueError('{0} colors required '.format(num_actions) +\n",
      "                         '(only {0} provided)'.format(num_colors))\n",
      "\n",
      "    G = nx.DiGraph(li.adj_matrix)\n",
      "\n",
      "    if isinstance(pos, dict):\n",
      "        pos = pos\n",
      "    else:\n",
      "        try:\n",
      "            layout_func = getattr(nx, '{0}_layout'.format(pos))\n",
      "            pos = layout_func(G)\n",
      "        except:\n",
      "            raise ValueError(\n",
      "                \"pos must be a dictionary of node-position pairs, or one of \" +\n",
      "                \"{'circular', 'random', 'shell', 'spring', 'spectral'}\")\n",
      "\n",
      "    def get_fig(n):\n",
      "        for i in range(num_actions):\n",
      "            nodelist = np.where(li.current_actions == i)[0].tolist()\n",
      "            nx.draw_networkx_nodes(G, pos, node_size=node_size,\n",
      "                                   nodelist=nodelist,\n",
      "                                   node_color=node_colors[i])\n",
      "        nx.draw_networkx_edges(G, pos, alpha=0.5, width=linewidth, arrows=False)\n",
      "        li.play()\n",
      "        return fig\n",
      "\n",
      "    li.set_init_actions(init_actions)\n",
      "\n",
      "    fig = plt.figure(figsize=figsize, facecolor='w')\n",
      "    anim = FuncAnimation(fig, get_fig, interval=interval)\n",
      "    plt.axis('off')\n",
      "    plt.show()\n",
      "    plt.close()"
     ],
     "language": "python",
     "metadata": {},
     "outputs": [],
     "prompt_number": 2
    },
    {
     "cell_type": "code",
     "collapsed": false,
     "input": [
      "# Number of players (= number of nodes)\n",
      "N = 100"
     ],
     "language": "python",
     "metadata": {},
     "outputs": [],
     "prompt_number": 3
    },
    {
     "cell_type": "heading",
     "level": 2,
     "metadata": {},
     "source": [
      "Networks"
     ]
    },
    {
     "cell_type": "code",
     "collapsed": false,
     "input": [
      "def draw_graph(graph_dict, figsize=(16,10), node_size=200, linewidth=2):\n",
      "    fig = plt.figure(figsize=figsize, facecolor='w')\n",
      "    nx.draw_networkx_nodes(graph_dict['G'], graph_dict['pos'],\n",
      "                           node_size=node_size, node_color='w')\n",
      "    nx.draw_networkx_edges(graph_dict['G'], graph_dict['pos'],\n",
      "                           alpha=0.5, width=linewidth, arrows=False)\n",
      "    plt.axis('off')\n",
      "    plt.show()"
     ],
     "language": "python",
     "metadata": {},
     "outputs": [],
     "prompt_number": 4
    },
    {
     "cell_type": "heading",
     "level": 3,
     "metadata": {},
     "source": [
      "Circle"
     ]
    },
    {
     "cell_type": "code",
     "collapsed": false,
     "input": [
      "circle = {}\n",
      "G = nx.cycle_graph(n=N)\n",
      "circle['G'] = G\n",
      "circle['adj_matrix'] = nx.adjacency_matrix(G)\n",
      "circle['pos'] = nx.circular_layout(G)"
     ],
     "language": "python",
     "metadata": {},
     "outputs": [],
     "prompt_number": 5
    },
    {
     "cell_type": "code",
     "collapsed": false,
     "input": [
      "draw_graph(circle)"
     ],
     "language": "python",
     "metadata": {},
     "outputs": [],
     "prompt_number": 6
    },
    {
     "cell_type": "heading",
     "level": 2,
     "metadata": {},
     "source": [
      "Coordination Games"
     ]
    },
    {
     "cell_type": "code",
     "collapsed": false,
     "input": [
      "a, b, c, d = 11, 0, 3, 10"
     ],
     "language": "python",
     "metadata": {},
     "outputs": [],
     "prompt_number": 7
    },
    {
     "cell_type": "code",
     "collapsed": false,
     "input": [
      "coordination_game = np.array([[a, b],\n",
      "                              [c, d]])"
     ],
     "language": "python",
     "metadata": {},
     "outputs": [],
     "prompt_number": 8
    },
    {
     "cell_type": "code",
     "collapsed": false,
     "input": [
      "coordination_game"
     ],
     "language": "python",
     "metadata": {},
     "outputs": [
      {
       "metadata": {},
       "output_type": "pyout",
       "prompt_number": 9,
       "text": [
        "array([[11,  0],\n",
        "       [ 3, 10]])"
       ]
      }
     ],
     "prompt_number": 9
    },
    {
     "cell_type": "code",
     "collapsed": false,
     "input": [
      "node_colors = ['w', 'b']"
     ],
     "language": "python",
     "metadata": {},
     "outputs": [],
     "prompt_number": 10
    },
    {
     "cell_type": "heading",
     "level": 3,
     "metadata": {},
     "source": [
      "Circle"
     ]
    },
    {
     "cell_type": "code",
     "collapsed": false,
     "input": [
      "li_coor = LocalInteraction(coordination_game, circle['adj_matrix'])"
     ],
     "language": "python",
     "metadata": {},
     "outputs": [],
     "prompt_number": 11
    },
    {
     "cell_type": "code",
     "collapsed": false,
     "input": [
      "init_actions = np.zeros(N, dtype=int)\n",
      "init_actions[[0, -1]] = 1\n",
      "animation(li_coor, init_actions=init_actions, pos=circle['pos'],\n",
      "          node_colors=node_colors, interval=100)"
     ],
     "language": "python",
     "metadata": {},
     "outputs": [],
     "prompt_number": 12
    },
    {
     "cell_type": "heading",
     "level": 2,
     "metadata": {},
     "source": [
      "Bilingual Game"
     ]
    },
    {
     "cell_type": "code",
     "collapsed": false,
     "input": [
      "def bilingual_game(e, a=11, b=0, c=3, d=10):\n",
      "    a = np.array([[a  , a  , b],\n",
      "                  [a-e, a-e, d-e],\n",
      "                  [c  , d  , d]])\n",
      "    return a"
     ],
     "language": "python",
     "metadata": {},
     "outputs": [],
     "prompt_number": 13
    },
    {
     "cell_type": "code",
     "collapsed": false,
     "input": [
      "bg = bilingual_game(e=0.1)\n",
      "bg"
     ],
     "language": "python",
     "metadata": {},
     "outputs": [
      {
       "metadata": {},
       "output_type": "pyout",
       "prompt_number": 14,
       "text": [
        "array([[ 11. ,  11. ,   0. ],\n",
        "       [ 10.9,  10.9,   9.9],\n",
        "       [  3. ,  10. ,  10. ]])"
       ]
      }
     ],
     "prompt_number": 14
    },
    {
     "cell_type": "code",
     "collapsed": false,
     "input": [
      "node_colors=['b', 'r', 'w']"
     ],
     "language": "python",
     "metadata": {},
     "outputs": [],
     "prompt_number": 15
    },
    {
     "cell_type": "heading",
     "level": 3,
     "metadata": {},
     "source": [
      "Circle"
     ]
    },
    {
     "cell_type": "code",
     "collapsed": false,
     "input": [
      "li_bg = LocalInteraction(bg, circle['adj_matrix'])"
     ],
     "language": "python",
     "metadata": {},
     "outputs": [],
     "prompt_number": 16
    },
    {
     "cell_type": "code",
     "collapsed": false,
     "input": [
      "init_actions = np.ones(N, dtype=int) * 2\n",
      "init_actions[[0, 1, -2, -1]] = 0\n",
      "animation(li_bg, init_actions=init_actions, pos=circle['pos'],\n",
      "          node_colors=node_colors, interval=100)"
     ],
     "language": "python",
     "metadata": {},
     "outputs": [],
     "prompt_number": 17
    },
    {
     "cell_type": "code",
     "collapsed": false,
     "input": [],
     "language": "python",
     "metadata": {},
     "outputs": [],
     "prompt_number": 17
    }
   ],
   "metadata": {}
  }
 ]
}