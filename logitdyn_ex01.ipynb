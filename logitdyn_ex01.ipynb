{
 "metadata": {
  "name": "",
  "signature": "sha256:c4a0a409f19abfe02c607acf838f97e25f340b7f0020cf365302dc0d7fe25ab0"
 },
 "nbformat": 3,
 "nbformat_minor": 0,
 "worksheets": [
  {
   "cells": [
    {
     "cell_type": "code",
     "collapsed": false,
     "input": [
      "import numpy as np\n",
      "from game_tools import NormalFormGame\n",
      "from logitdyn import LogitDynamics"
     ],
     "language": "python",
     "metadata": {},
     "outputs": [],
     "prompt_number": 1
    },
    {
     "cell_type": "code",
     "collapsed": false,
     "input": [
      "g_coo = NormalFormGame([[4, 0], [3, 2]])"
     ],
     "language": "python",
     "metadata": {},
     "outputs": [],
     "prompt_number": 2
    },
    {
     "cell_type": "code",
     "collapsed": false,
     "input": [
      "ld = LogitDynamics(g_coo)"
     ],
     "language": "python",
     "metadata": {},
     "outputs": [],
     "prompt_number": 3
    },
    {
     "cell_type": "code",
     "collapsed": false,
     "input": [
      "ld.beta = 4.0\n",
      "T = 10**3\n",
      "num_reps = 500\n",
      "init_actions = (0, 0)\n",
      "out = ld.replicate(T=T, num_reps=num_reps, init_actions=init_actions)\n",
      "np.histogram2d(out[:, 0], out[:, 1], bins=np.arange(3))"
     ],
     "language": "python",
     "metadata": {},
     "outputs": [
      {
       "metadata": {},
       "output_type": "pyout",
       "prompt_number": 4,
       "text": [
        "(array([[  12.,    0.],\n",
        "        [   0.,  488.]]), array([ 0.,  1.,  2.]), array([ 0.,  1.,  2.]))"
       ]
      }
     ],
     "prompt_number": 4
    },
    {
     "cell_type": "code",
     "collapsed": false,
     "input": [],
     "language": "python",
     "metadata": {},
     "outputs": [],
     "prompt_number": 4
    }
   ],
   "metadata": {}
  }
 ]
}