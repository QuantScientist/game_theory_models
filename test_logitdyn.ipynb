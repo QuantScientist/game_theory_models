{
 "cells": [
  {
   "cell_type": "code",
   "execution_count": 1,
   "metadata": {
    "collapsed": false
   },
   "outputs": [],
   "source": [
    "import numpy as np\n",
    "from game_tools import NormalFormGame\n",
    "from logitdyn import LogitDynamics\n",
    "from __future__ import division"
   ]
  },
  {
   "cell_type": "code",
   "execution_count": 29,
   "metadata": {
    "collapsed": false
   },
   "outputs": [],
   "source": [
    "coo_payoffs = np.array([[4,0], [3,2]])\n",
    "g_coo = NormalFormGame(coo_payoffs)"
   ]
  },
  {
   "cell_type": "markdown",
   "metadata": {},
   "source": [
    "### test_simulate_LLN"
   ]
  },
  {
   "cell_type": "code",
   "execution_count": 43,
   "metadata": {
    "collapsed": true
   },
   "outputs": [],
   "source": [
    "u = coo_payoffs\n",
    "beta = 1.0\n",
    "P = np.zeros((2,2))"
   ]
  },
  {
   "cell_type": "markdown",
   "metadata": {},
   "source": [
    "I made a probabilistic choice matrix $P$ in a redundant way just in case."
   ]
  },
  {
   "cell_type": "code",
   "execution_count": 44,
   "metadata": {
    "collapsed": false
   },
   "outputs": [
    {
     "data": {
      "text/plain": [
       "0.73105857863000479"
      ]
     },
     "execution_count": 44,
     "metadata": {},
     "output_type": "execute_result"
    }
   ],
   "source": [
    "P[0,0] = np.exp(u[0,0] * beta) / (np.exp(u[0,0] * beta) + np.exp(u[1,0] * beta))\n",
    "P[0,0]"
   ]
  },
  {
   "cell_type": "code",
   "execution_count": 45,
   "metadata": {
    "collapsed": false
   },
   "outputs": [
    {
     "data": {
      "text/plain": [
       "0.2689414213699951"
      ]
     },
     "execution_count": 45,
     "metadata": {},
     "output_type": "execute_result"
    }
   ],
   "source": [
    "P[1,0] = np.exp(u[1,0] * beta) / (np.exp(u[0,0] * beta) + np.exp(u[1,0] * beta))\n",
    "P[1,0]"
   ]
  },
  {
   "cell_type": "code",
   "execution_count": 46,
   "metadata": {
    "collapsed": false
   },
   "outputs": [
    {
     "data": {
      "text/plain": [
       "0.11920292202211755"
      ]
     },
     "execution_count": 46,
     "metadata": {},
     "output_type": "execute_result"
    }
   ],
   "source": [
    "P[0,1] = np.exp(u[0,1] * beta) / (np.exp(u[0,1] * beta) + np.exp(u[1,1] * beta))\n",
    "P[0,1]"
   ]
  },
  {
   "cell_type": "code",
   "execution_count": 47,
   "metadata": {
    "collapsed": false
   },
   "outputs": [
    {
     "data": {
      "text/plain": [
       "0.88079707797788243"
      ]
     },
     "execution_count": 47,
     "metadata": {},
     "output_type": "execute_result"
    }
   ],
   "source": [
    "P[1,1] = np.exp(u[1,1] * beta) / (np.exp(u[0,1] * beta) + np.exp(u[1,1] * beta))\n",
    "P[1,1]"
   ]
  },
  {
   "cell_type": "code",
   "execution_count": 48,
   "metadata": {
    "collapsed": false
   },
   "outputs": [
    {
     "name": "stdout",
     "output_type": "stream",
     "text": [
      "[[ 0.73105858  0.11920292]\n",
      " [ 0.26894142  0.88079708]]\n"
     ]
    }
   ],
   "source": [
    "print P"
   ]
  },
  {
   "cell_type": "markdown",
   "metadata": {},
   "source": [
    "$P[i,j]$ represents the probability that a player chooses an action $i$ provided that his opponent takes an action $j$."
   ]
  },
  {
   "cell_type": "code",
   "execution_count": 49,
   "metadata": {
    "collapsed": false
   },
   "outputs": [
    {
     "name": "stdout",
     "output_type": "stream",
     "text": [
      "[[ 0.73105858  0.13447071  0.13447071  0.        ]\n",
      " [ 0.36552929  0.19407217  0.          0.44039854]\n",
      " [ 0.36552929  0.          0.19407217  0.44039854]\n",
      " [ 0.          0.05960146  0.05960146  0.88079708]]\n"
     ]
    }
   ],
   "source": [
    "Q = np.zeros((4,4))\n",
    "Q[0, 0] = P[0, 0]\n",
    "Q[0, 1] = 0.5 * P[1, 0]\n",
    "Q[0, 2] = 0.5 * P[1, 0]\n",
    "Q[0, 3] = 0\n",
    "Q[1, 0] = 0.5 * P[0, 0]\n",
    "Q[1, 1] = 0.5 * P[0, 1] + 0.5 * P[1, 0]\n",
    "Q[1, 2] = 0\n",
    "Q[1, 3] = 0.5 * P[1, 1]\n",
    "Q[2, 0] = 0.5 * P[0, 0]\n",
    "Q[2, 1] = 0\n",
    "Q[2, 2] = 0.5 * P[1, 0] + 0.5 * P[0, 1]\n",
    "Q[2, 3] = 0.5 * P[1, 1]\n",
    "Q[3, 0] = 0\n",
    "Q[3, 1] = 0.5 * P[0, 1]\n",
    "Q[3, 2] = 0.5 * P[0, 1]\n",
    "Q[3, 3] = P[1, 1]\n",
    "print Q"
   ]
  },
  {
   "cell_type": "markdown",
   "metadata": {},
   "source": [
    "$Q$ is the transition probability matrix. The first row and column represent the state $(0,0)$, which means that player 1 takes action 0 and player 2 also takes action 0. The second ones  represent $(0,1)$, the third ones represent $(1,0)$, and the last ones represent $(1,1)$."
   ]
  },
  {
   "cell_type": "code",
   "execution_count": 52,
   "metadata": {
    "collapsed": false
   },
   "outputs": [],
   "source": [
    "from quantecon.mc_tools import MarkovChain"
   ]
  },
  {
   "cell_type": "code",
   "execution_count": 53,
   "metadata": {
    "collapsed": true
   },
   "outputs": [],
   "source": [
    "mc = MarkovChain(Q)"
   ]
  },
  {
   "cell_type": "code",
   "execution_count": 55,
   "metadata": {
    "collapsed": false
   },
   "outputs": [
    {
     "data": {
      "text/plain": [
       "array([ 0.22451524,  0.08259454,  0.08259454,  0.61029569])"
      ]
     },
     "execution_count": 55,
     "metadata": {},
     "output_type": "execute_result"
    }
   ],
   "source": [
    "mc.stationary_distributions[0]"
   ]
  },
  {
   "cell_type": "markdown",
   "metadata": {},
   "source": [
    "I take 0.61029569 as the criterion for the test."
   ]
  },
  {
   "cell_type": "code",
   "execution_count": 56,
   "metadata": {
    "collapsed": true
   },
   "outputs": [],
   "source": [
    "ld = LogitDynamics(g_coo)"
   ]
  },
  {
   "cell_type": "code",
   "execution_count": 130,
   "metadata": {
    "collapsed": false
   },
   "outputs": [
    {
     "data": {
      "text/plain": [
       "0.605"
      ]
     },
     "execution_count": 130,
     "metadata": {},
     "output_type": "execute_result"
    }
   ],
   "source": [
    "# New one  (using replicate)\n",
    "n = 1000\n",
    "seq = ld.replicate(T=100, num_reps=n)\n",
    "count = 0\n",
    "for i in range(n):\n",
    "    if all(seq[i, :] == [1, 1]):\n",
    "        count += 1\n",
    "ratio = count / n\n",
    "ratio"
   ]
  },
  {
   "cell_type": "code",
   "execution_count": 131,
   "metadata": {
    "collapsed": false
   },
   "outputs": [
    {
     "data": {
      "text/plain": [
       "0.59267999999999998"
      ]
     },
     "execution_count": 131,
     "metadata": {},
     "output_type": "execute_result"
    }
   ],
   "source": [
    "# Old one\n",
    "counts = np.zeros(1000)\n",
    "for i in range(1000):\n",
    "    seq = ld.simulate(ts_length=100)\n",
    "    count = 0\n",
    "    for j in range(100):\n",
    "        if all(seq[j, :] == [1, 1]):\n",
    "            count += 1\n",
    "    counts[i] = count\n",
    "m = counts.mean() / 100\n",
    "m"
   ]
  }
 ],
 "metadata": {
  "kernelspec": {
   "display_name": "Python 2",
   "language": "python",
   "name": "python2"
  },
  "language_info": {
   "codemirror_mode": {
    "name": "ipython",
    "version": 2
   },
   "file_extension": ".py",
   "mimetype": "text/x-python",
   "name": "python",
   "nbconvert_exporter": "python",
   "pygments_lexer": "ipython2",
   "version": "2.7.9"
  }
 },
 "nbformat": 4,
 "nbformat_minor": 0
}
